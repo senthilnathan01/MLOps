{
 "cells": [
  {
   "cell_type": "markdown",
   "metadata": {},
   "source": [
    "## Key Terms\n",
    "\n",
    "**Function**: A reusable block of code that performs a specific task. Defined using the def keyword.\n",
    "\n",
    "**Arguments**: Values passed into a function when calling it. Allows customizing behavior.\n",
    "\n",
    "**Variable Arguments**: Allows passing an arbitrary number of arguments to a function.\n",
    "\n",
    "**Keyword Arguments**: Arguments passed by name rather than position. Can have default values."
   ]
  },
  {
   "cell_type": "markdown",
   "metadata": {},
   "source": [
    "### Function example"
   ]
  },
  {
   "cell_type": "code",
   "execution_count": 1,
   "metadata": {},
   "outputs": [
    {
     "name": "stdout",
     "output_type": "stream",
     "text": [
      "10\n"
     ]
    }
   ],
   "source": [
    "def double(x):\n",
    "    \"\"\"Doubles a number\"\"\"\n",
    "    return x * 2\n",
    "\n",
    "print(double(5))"
   ]
  },
  {
   "cell_type": "markdown",
   "metadata": {},
   "source": [
    "### Function with Argument"
   ]
  },
  {
   "cell_type": "code",
   "execution_count": 2,
   "metadata": {},
   "outputs": [
    {
     "name": "stdout",
     "output_type": "stream",
     "text": [
      "John Doe\n"
     ]
    }
   ],
   "source": [
    "def full_name(first, last):\n",
    "    return first + \" \" + last\n",
    "\n",
    "print(full_name(\"John\", \"Doe\"))"
   ]
  },
  {
   "cell_type": "markdown",
   "metadata": {},
   "source": [
    "### Variable Arguments"
   ]
  },
  {
   "cell_type": "markdown",
   "metadata": {},
   "source": [
    "Also called as *var args*. Are arguments that do not have any defaults."
   ]
  },
  {
   "cell_type": "code",
   "execution_count": 3,
   "metadata": {},
   "outputs": [
    {
     "name": "stdout",
     "output_type": "stream",
     "text": [
      "6\n"
     ]
    }
   ],
   "source": [
    "def sum_of_numbers(*numbers):\n",
    "    sum = 0\n",
    "    for n in numbers:\n",
    "        sum += n\n",
    "    return sum\n",
    "\n",
    "print(sum_of_numbers(1,2,3))"
   ]
  },
  {
   "cell_type": "markdown",
   "metadata": {},
   "source": [
    "### Variable keyword arguments\n",
    "\n",
    "These are arguments that are mapped to a value (key and value, like a dictionary). The premise of how this works is the same as variable arguments, and the syntax is slightly different. "
   ]
  },
  {
   "cell_type": "code",
   "execution_count": 18,
   "metadata": {},
   "outputs": [
    {
     "name": "stdout",
     "output_type": "stream",
     "text": [
      "speed --> slow\n",
      "active --> False\n",
      "weight --> 225\n"
     ]
    }
   ],
   "source": [
    "def stats(**kwargs):\n",
    "    # kwargs is now a dictionary\n",
    "    for key, value in kwargs.items():\n",
    "        print(key, \"-->\", value)\n",
    "\n",
    "stats(speed = \"slow\", active = False, weight = 225)"
   ]
  },
  {
   "cell_type": "markdown",
   "metadata": {},
   "source": [
    "### Keyword Arguments"
   ]
  },
  {
   "cell_type": "code",
   "execution_count": 5,
   "metadata": {},
   "outputs": [
    {
     "name": "stdout",
     "output_type": "stream",
     "text": [
      "Hello, John\n",
      "Hi, Mary\n"
     ]
    }
   ],
   "source": [
    "def greet(name, greeting = \"Hello\"):\n",
    "    print(greeting + \", \" + name)\n",
    "\n",
    "\n",
    "greet(\"John\")\n",
    "greet(\"Mary\", greeting = \"Hi\")"
   ]
  },
  {
   "cell_type": "markdown",
   "metadata": {},
   "source": [
    "### Generator: \n",
    "\n",
    "A type of iterable like lists or tuples but does not store the full sequence in memory at once. Uses yield to generate one item at a time"
   ]
  },
  {
   "cell_type": "code",
   "execution_count": 7,
   "metadata": {},
   "outputs": [
    {
     "name": "stdout",
     "output_type": "stream",
     "text": [
      "5\n",
      "6\n",
      "7\n",
      "8\n",
      "9\n",
      "10\n"
     ]
    }
   ],
   "source": [
    "# counter generator\n",
    "\n",
    "def counter(start = 0):\n",
    "    n = start\n",
    "    while True:\n",
    "        yield n\n",
    "        n += 1\n",
    "\n",
    "for i in counter(5):\n",
    "    if i > 10:\n",
    "        break\n",
    "    print(i)\n"
   ]
  },
  {
   "cell_type": "code",
   "execution_count": 10,
   "metadata": {},
   "outputs": [
    {
     "name": "stdout",
     "output_type": "stream",
     "text": [
      "0\n",
      "1\n",
      "1\n",
      "2\n",
      "3\n",
      "5\n",
      "8\n"
     ]
    }
   ],
   "source": [
    "# Infinite Fibonacci sequence generator\n",
    "def fib():\n",
    "    a, b = 0, 1\n",
    "    while True:\n",
    "        yield a\n",
    "        a, b = b, a + b\n",
    "\n",
    "for n in fib():\n",
    "    if n > 10:\n",
    "        break\n",
    "    print(n)"
   ]
  },
  {
   "cell_type": "markdown",
   "metadata": {},
   "source": [
    "### Generator expression: \n",
    "\n",
    "More compact syntax like list comprehensions for inline lazy generation, uses () instead of []"
   ]
  },
  {
   "cell_type": "code",
   "execution_count": 15,
   "metadata": {},
   "outputs": [
    {
     "name": "stdout",
     "output_type": "stream",
     "text": [
      "[0, 1, 4, 9, 16, 25, 36, 49, 64, 81]\n"
     ]
    }
   ],
   "source": [
    "#Generator expression to get squares\n",
    "nums = (x**2 for x in range(10))\n",
    "print(list(nums))"
   ]
  },
  {
   "cell_type": "markdown",
   "metadata": {},
   "source": [
    "### Infinite sequence: \n",
    "\n",
    "Generators can be infinitely recursive/iterative to model data streams"
   ]
  },
  {
   "cell_type": "code",
   "execution_count": 16,
   "metadata": {},
   "outputs": [
    {
     "name": "stdout",
     "output_type": "stream",
     "text": [
      "Yielding attack\n",
      "triangle\n",
      "Yielding attack\n",
      "armbar\n",
      "Yielding attack\n",
      "triangle\n",
      "Yielding attack\n",
      "triangle\n",
      "Yielding attack\n",
      "triangle\n"
     ]
    }
   ],
   "source": [
    "# Infinite random attack sequence\n",
    "import random\n",
    "\n",
    "attacks = [\"kimura\", \"armbar\", \"triangle\"] \n",
    "\n",
    "def lazy_random_attacks():\n",
    "    \"\"\"Lazily yield random attacks forever\"\"\"\n",
    "    \n",
    "    while True:\n",
    "        attack = random.choice(attacks)\n",
    "        print(\"Yielding attack\") \n",
    "        yield attack\n",
    "        \n",
    "generator = lazy_random_attacks()\n",
    "\n",
    "for _ in range(5):\n",
    "    print(next(generator))"
   ]
  }
 ],
 "metadata": {
  "kernelspec": {
   "display_name": "Python 3",
   "language": "python",
   "name": "python3"
  },
  "language_info": {
   "codemirror_mode": {
    "name": "ipython",
    "version": 3
   },
   "file_extension": ".py",
   "mimetype": "text/x-python",
   "name": "python",
   "nbconvert_exporter": "python",
   "pygments_lexer": "ipython3",
   "version": "3.12.1"
  }
 },
 "nbformat": 4,
 "nbformat_minor": 2
}

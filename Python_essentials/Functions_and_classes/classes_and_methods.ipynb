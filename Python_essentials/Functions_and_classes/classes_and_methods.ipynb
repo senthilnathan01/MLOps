{
 "cells": [
  {
   "cell_type": "markdown",
   "metadata": {},
   "source": [
    "## Key Terms\n",
    "\n",
    "**Class**: Blueprint for creating objects. Defines attributes and methods.\n",
    "\n",
    "**Instance**: Object that is created from a class. Has access to class attributes and methods.\n",
    "\n",
    "**Method**: Function that belongs to a class. Accessed via instance or class name.\n",
    "\n",
    "**Constructor**: Special method that runs when an instance is created. Used to initialize attributes.\n",
    "\n",
    "**Inheritance**: Creating a child class from parent class. Child inherits attributes and methods."
   ]
  },
  {
   "cell_type": "markdown",
   "metadata": {},
   "source": [
    "**Class**: Defines a template\n",
    "\n",
    "**Object**: An instance of a class\n",
    "\n",
    "**Attribute**: Variables bound to an object\n",
    "\n",
    "\n",
    "\n"
   ]
  },
  {
   "cell_type": "markdown",
   "metadata": {},
   "source": [
    "## Class example"
   ]
  },
  {
   "cell_type": "code",
   "execution_count": 3,
   "metadata": {},
   "outputs": [],
   "source": [
    "# most basic class\n",
    "class Basic:\n",
    "    pass\n",
    "\n",
    "basic = Basic()"
   ]
  },
  {
   "cell_type": "code",
   "execution_count": 5,
   "metadata": {},
   "outputs": [
    {
     "data": {
      "text/plain": [
       "['__class__',\n",
       " '__delattr__',\n",
       " '__dict__',\n",
       " '__dir__',\n",
       " '__doc__',\n",
       " '__eq__',\n",
       " '__format__',\n",
       " '__ge__',\n",
       " '__getattribute__',\n",
       " '__getstate__',\n",
       " '__gt__',\n",
       " '__hash__',\n",
       " '__init__',\n",
       " '__init_subclass__',\n",
       " '__le__',\n",
       " '__lt__',\n",
       " '__module__',\n",
       " '__ne__',\n",
       " '__new__',\n",
       " '__reduce__',\n",
       " '__reduce_ex__',\n",
       " '__repr__',\n",
       " '__setattr__',\n",
       " '__sizeof__',\n",
       " '__str__',\n",
       " '__subclasshook__',\n",
       " '__weakref__']"
      ]
     },
     "execution_count": 5,
     "metadata": {},
     "output_type": "execute_result"
    }
   ],
   "source": [
    "# use dir() to find about what is available in a class\n",
    "dir(basic)"
   ]
  },
  {
   "cell_type": "code",
   "execution_count": 1,
   "metadata": {},
   "outputs": [
    {
     "name": "stdout",
     "output_type": "stream",
     "text": [
      "4\n",
      "The BMW i3\n"
     ]
    }
   ],
   "source": [
    "class Vehicle:\n",
    "    wheels = 4 # Class attribute\n",
    "    \n",
    "    def __init__(self, make, model):\n",
    "        self.make = make # Instance attribute\n",
    "        self.model = model\n",
    "        \n",
    "    def description(self): # Method\n",
    "        return f\"The {self.make} {self.model}\"\n",
    "\n",
    "car = Vehicle(\"BMW\", \"i3\") # Instance created\n",
    "print(car.wheels) # Access class attribute\n",
    "print(car.description()) # Call instance method"
   ]
  },
  {
   "cell_type": "code",
   "execution_count": 11,
   "metadata": {},
   "outputs": [],
   "source": [
    "class Dog:\n",
    "    is_animal = True # Class attribute\n",
    "\n",
    "    def bark(self): # Method\n",
    "        print(\"woof!\")\n",
    "              \n",
    "dog = Dog()"
   ]
  },
  {
   "cell_type": "code",
   "execution_count": 12,
   "metadata": {},
   "outputs": [
    {
     "name": "stdout",
     "output_type": "stream",
     "text": [
      "woof!\n"
     ]
    },
    {
     "data": {
      "text/plain": [
       "True"
      ]
     },
     "execution_count": 12,
     "metadata": {},
     "output_type": "execute_result"
    }
   ],
   "source": [
    "dog.bark()\n",
    "dog.is_animal"
   ]
  },
  {
   "cell_type": "code",
   "execution_count": 13,
   "metadata": {},
   "outputs": [
    {
     "data": {
      "text/plain": [
       "False"
      ]
     },
     "execution_count": 13,
     "metadata": {},
     "output_type": "execute_result"
    }
   ],
   "source": [
    "Dog.is_animal = False\n",
    "dog.is_animal"
   ]
  },
  {
   "cell_type": "code",
   "execution_count": 14,
   "metadata": {},
   "outputs": [
    {
     "data": {
      "text/plain": [
       "False"
      ]
     },
     "execution_count": 14,
     "metadata": {},
     "output_type": "execute_result"
    }
   ],
   "source": [
    "rufus = Dog()\n",
    "rufus.is_animal"
   ]
  },
  {
   "cell_type": "markdown",
   "metadata": {},
   "source": [
    "## Using a constructor\n",
    "\n",
    "We already saw how class attributes can be tricky to work with. It is fine to use them, but they have potential to cause problems, because they change state. A constructor can help with many of those problems, and allows you to set particulars about the object when creating it."
   ]
  },
  {
   "cell_type": "code",
   "execution_count": 15,
   "metadata": {},
   "outputs": [
    {
     "data": {
      "text/plain": [
       "True"
      ]
     },
     "execution_count": 15,
     "metadata": {},
     "output_type": "execute_result"
    }
   ],
   "source": [
    "# the constructor in Python is with the special method called __init__\n",
    "\n",
    "class Dog:\n",
    "    def __init__(self):\n",
    "        self.is_animal = True\n",
    "\n",
    "dog = Dog()\n",
    "dog.is_animal"
   ]
  },
  {
   "cell_type": "code",
   "execution_count": 16,
   "metadata": {},
   "outputs": [],
   "source": [
    "class Animal:\n",
    "    def __init__(self, name, legs = 4, barks = True):\n",
    "        self.name = name\n",
    "        self.legs = legs\n",
    "        self.barks = barks\n",
    "\n",
    "    def info(self):\n",
    "        print(f\"This is an animal named {self.name}, has {self.legs} legs\")\n",
    "        if self.barks:\n",
    "            print(\"And this one barks\")\n",
    "        else:\n",
    "            print(\"And this one doesn't bark at all\")"
   ]
  },
  {
   "cell_type": "code",
   "execution_count": 17,
   "metadata": {},
   "outputs": [
    {
     "name": "stdout",
     "output_type": "stream",
     "text": [
      "This is an animal named buster, has 4 legs\n",
      "And this one doesn't bark at all\n"
     ]
    }
   ],
   "source": [
    "bunny = Animal(\"buster\", barks = False)\n",
    "bunny.info()"
   ]
  },
  {
   "cell_type": "markdown",
   "metadata": {},
   "source": [
    "## Adding Methods"
   ]
  },
  {
   "cell_type": "markdown",
   "metadata": {},
   "source": [
    "We've already seen methods. Some are special like `__init__` and some look like functions but always need `self` as the first argument. These notebook shows you other things you can do with methods."
   ]
  },
  {
   "cell_type": "code",
   "execution_count": 5,
   "metadata": {},
   "outputs": [
    {
     "name": "stdout",
     "output_type": "stream",
     "text": [
      "Budget left: 80\n",
      "Budget left: 30\n"
     ]
    }
   ],
   "source": [
    "# class with two methods\n",
    "\n",
    "class Budget:\n",
    "    def __init__(self, budget):\n",
    "        self.budget = budget\n",
    "\n",
    "    def expense(self, amount):\n",
    "        self.budget = self.budget - amount\n",
    "        print(f\"Budget left: {self.budget}\")\n",
    "\n",
    "budget = Budget(100)\n",
    "budget.expense(20)\n",
    "budget.expense(50)"
   ]
  },
  {
   "cell_type": "code",
   "execution_count": 7,
   "metadata": {},
   "outputs": [
    {
     "name": "stdout",
     "output_type": "stream",
     "text": [
      "Budget left: 80\n",
      "Budget left: 30\n"
     ]
    }
   ],
   "source": [
    "# Alter\n",
    "class Budget:\n",
    "    def __init__(self, budget):\n",
    "        self.budget = budget\n",
    "\n",
    "    def expense(self, amount):\n",
    "        self.budget = self.budget - amount\n",
    "        self.report()\n",
    "\n",
    "    def report(self):\n",
    "        print(f\"Budget left: {self.budget}\")\n",
    "\n",
    "budget = Budget(100)\n",
    "budget.expense(20)\n",
    "budget.expense(50)"
   ]
  },
  {
   "cell_type": "markdown",
   "metadata": {},
   "source": [
    "## Inheritance Example"
   ]
  },
  {
   "cell_type": "code",
   "execution_count": 8,
   "metadata": {},
   "outputs": [
    {
     "name": "stdout",
     "output_type": "stream",
     "text": [
      "Chomp\n",
      "Woof!\n"
     ]
    }
   ],
   "source": [
    "class Pet:\n",
    "    def eat(self):\n",
    "        print(\"Chomp\")\n",
    "        \n",
    "class Dog(Pet):\n",
    "    def bark(self):\n",
    "        print(\"Woof!\")\n",
    "        \n",
    "dog = Dog()\n",
    "dog.eat() # Inherited method\n",
    "dog.bark() # Dog specific method"
   ]
  },
  {
   "cell_type": "code",
   "execution_count": 2,
   "metadata": {},
   "outputs": [],
   "source": [
    "# create a base class for house pets\n",
    "\n",
    "class Pet:\n",
    "\n",
    "    def eat(self):\n",
    "        self.food = self.food - self.appetite\n",
    "        print(f\"Ate {self.appetite} of food, have {self.food} left\")"
   ]
  },
  {
   "cell_type": "code",
   "execution_count": 6,
   "metadata": {},
   "outputs": [],
   "source": [
    "# create child classes\n",
    "\n",
    "class Parakeet(Pet):\n",
    "    def __init__(self):\n",
    "        self.food = 100\n",
    "        self.appetite = 1\n",
    "\n",
    "class Dog(Pet):\n",
    "    def __init__(self):\n",
    "        self.food = 400\n",
    "        self.appetite = 7\n",
    "\n",
    "perry = Parakeet()\n",
    "rufus = Dog()"
   ]
  },
  {
   "cell_type": "code",
   "execution_count": 7,
   "metadata": {},
   "outputs": [
    {
     "name": "stdout",
     "output_type": "stream",
     "text": [
      "Ate 1 of food, have 99 left\n",
      "Ate 7 of food, have 393 left\n"
     ]
    }
   ],
   "source": [
    "perry.eat()\n",
    "rufus.eat()"
   ]
  },
  {
   "cell_type": "code",
   "execution_count": null,
   "metadata": {},
   "outputs": [],
   "source": []
  }
 ],
 "metadata": {
  "kernelspec": {
   "display_name": "Python 3",
   "language": "python",
   "name": "python3"
  },
  "language_info": {
   "codemirror_mode": {
    "name": "ipython",
    "version": 3
   },
   "file_extension": ".py",
   "mimetype": "text/x-python",
   "name": "python",
   "nbconvert_exporter": "python",
   "pygments_lexer": "ipython3",
   "version": "3.12.1"
  }
 },
 "nbformat": 4,
 "nbformat_minor": 2
}

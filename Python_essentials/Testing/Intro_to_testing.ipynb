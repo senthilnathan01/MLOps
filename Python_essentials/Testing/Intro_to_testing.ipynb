{
 "cells": [
  {
   "cell_type": "markdown",
   "metadata": {},
   "source": [
    "# Intro to Testing"
   ]
  },
  {
   "cell_type": "markdown",
   "metadata": {},
   "source": [
    "## Key Terms\n",
    "\n",
    "**Testing** - Validating code behavior through automated scripts to check for correctness and catch issues.\n",
    "\n",
    "**Unit Test** - Testing isolated chunks of code like functions or classes.\n",
    "\n",
    "**Test Function** - An isolated test wrapped in a Python function.\n",
    "\n",
    "**Test Class** - A class that contains related test methods.\n",
    "\n",
    "**Assertion** - Boolean checks in test code to verify values match expectations.\n",
    "\n",
    "**Fixture** - Shared test data or state managed by the testing framework."
   ]
  },
  {
   "cell_type": "markdown",
   "metadata": {},
   "source": [
    "## Pytest\n",
    "\n",
    "The land where everything is simpler and practical:\n",
    "\n",
    "- A command-line tool, but also a framework\n",
    "- Doesn't force one to use the framework\n",
    "- No classes required\n",
    "- Can run functions\n",
    "- Allows simple `assert` calls in tests: operators: ==, !=, >\n",
    "- Ultra-rich output, which can be turned off!"
   ]
  },
  {
   "cell_type": "markdown",
   "metadata": {},
   "source": [
    "# Writing Useful Terms"
   ]
  },
  {
   "cell_type": "markdown",
   "metadata": {},
   "source": [
    "## Key Terms\n",
    "\n",
    "**Plain Asserts** - Basic assertion statements in Python used to verify values and results.\n",
    "\n",
    "**Test Classes** - Classes that contain multiple related test methods and setup/teardown logic.\n",
    "\n",
    "**Parametrize** - Pytest decorator to run a test multiple times with different arguments.\n",
    "\n",
    "**Setup Method** - Code that runs before each test method in a Test Class.\n",
    "\n",
    "**Teardown Method** - Code that runs after each test method in a Test Class."
   ]
  },
  {
   "cell_type": "markdown",
   "metadata": {},
   "source": [
    "## Testing failures"
   ]
  },
  {
   "cell_type": "markdown",
   "metadata": {},
   "source": [
    "## Key Terms\n",
    "\n",
    "**Test Failure Output** - Pytest results containing details on which tests failed and why.\n",
    "\n",
    "**PDB (Python Debugger)** - Tool to debug Python code by stepping through execution.\n",
    "\n",
    "**Pytest Fixtures** - Shared test data/state managed by Pytest.\n",
    "\n",
    "**Pytest Plugins** - Extensions that provide added Pytest functionality.\n",
    "\n",
    "**Pytest Options** - Command line flags that control Pytest test runner behavior."
   ]
  },
  {
   "cell_type": "code",
   "execution_count": null,
   "metadata": {},
   "outputs": [],
   "source": []
  }
 ],
 "metadata": {
  "kernelspec": {
   "display_name": "Python 3",
   "language": "python",
   "name": "python3"
  },
  "language_info": {
   "codemirror_mode": {
    "name": "ipython",
    "version": 3
   },
   "file_extension": ".py",
   "mimetype": "text/x-python",
   "name": "python",
   "nbconvert_exporter": "python",
   "pygments_lexer": "ipython3",
   "version": "3.12.1"
  }
 },
 "nbformat": 4,
 "nbformat_minor": 2
}

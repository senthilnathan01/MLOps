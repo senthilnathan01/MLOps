{
 "cells": [
  {
   "cell_type": "markdown",
   "metadata": {},
   "source": [
    "## Adding and Extracting Data from Data Structures"
   ]
  },
  {
   "cell_type": "markdown",
   "metadata": {},
   "source": [
    "**Key Terms**\n",
    "\n",
    "**Append** - Adds an item to the end of a list\n",
    "\n",
    "**Insert** - Inserts an item at a specified index in a list\n",
    "\n",
    "**Extend** - Appends all items from one list onto another\n",
    "\n",
    "**Pop** - Removes and returns an item at a specified index\n",
    "\n",
    "**Get** - Safely gets a dictionary value falling back to a default"
   ]
  },
  {
   "cell_type": "markdown",
   "metadata": {},
   "source": [
    "### List"
   ]
  },
  {
   "cell_type": "code",
   "execution_count": 1,
   "metadata": {},
   "outputs": [
    {
     "name": "stdout",
     "output_type": "stream",
     "text": [
      "['apple', 'orange', 'banana']\n"
     ]
    }
   ],
   "source": [
    "fruits = ['apple', 'orange']\n",
    "fruits.append('banana') \n",
    "print(fruits) # ['apple', 'orange', 'banana']"
   ]
  },
  {
   "cell_type": "code",
   "execution_count": 2,
   "metadata": {},
   "outputs": [
    {
     "name": "stdout",
     "output_type": "stream",
     "text": [
      "['grapes', 'apple', 'orange', 'banana']\n"
     ]
    }
   ],
   "source": [
    "fruits.insert(0, 'grapes')  \n",
    "print(fruits) # ['grapes', 'apple', 'orange', 'banana']"
   ]
  },
  {
   "cell_type": "code",
   "execution_count": 3,
   "metadata": {},
   "outputs": [
    {
     "name": "stdout",
     "output_type": "stream",
     "text": [
      "['grapes', 'apple', 'orange', 'banana', 'carrots', 'celery']\n"
     ]
    }
   ],
   "source": [
    "veggies = ['carrots', 'celery']\n",
    "fruits.extend(veggies)\n",
    "print(fruits) # ['grapes', 'apple', 'orange', 'banana', 'carrots', 'celery'] "
   ]
  },
  {
   "cell_type": "code",
   "execution_count": 4,
   "metadata": {},
   "outputs": [
    {
     "name": "stdout",
     "output_type": "stream",
     "text": [
      "orange\n",
      "['grapes', 'apple', 'banana', 'carrots', 'celery']\n"
     ]
    },
    {
     "data": {
      "text/plain": [
       "['grapes', 'apple', 'banana', 'carrots', 'celery']"
      ]
     },
     "execution_count": 4,
     "metadata": {},
     "output_type": "execute_result"
    }
   ],
   "source": [
    "removed = fruits.pop(2) \n",
    "print(removed) # orange\n",
    "print(fruits) # ['grapes', 'apple', 'banana', 'carrots', 'celery']\n",
    "fruits"
   ]
  },
  {
   "cell_type": "code",
   "execution_count": 5,
   "metadata": {},
   "outputs": [
    {
     "name": "stdout",
     "output_type": "stream",
     "text": [
      "25\n"
     ]
    }
   ],
   "source": [
    "dict = {'name': 'Mary'}\n",
    "print(dict.get('age', 25)) # 25 (default used)"
   ]
  },
  {
   "cell_type": "code",
   "execution_count": 6,
   "metadata": {},
   "outputs": [
    {
     "data": {
      "text/plain": [
       "['grapes', 'apple', 'banana', 'carrots', 'celery']"
      ]
     },
     "execution_count": 6,
     "metadata": {},
     "output_type": "execute_result"
    }
   ],
   "source": [
    "fruits"
   ]
  },
  {
   "cell_type": "code",
   "execution_count": 7,
   "metadata": {},
   "outputs": [
    {
     "data": {
      "text/plain": [
       "['apple', 'banana', 'carrots', 'celery']"
      ]
     },
     "execution_count": 7,
     "metadata": {},
     "output_type": "execute_result"
    }
   ],
   "source": [
    "fruits.remove('grapes')\n",
    "fruits"
   ]
  },
  {
   "cell_type": "markdown",
   "metadata": {},
   "source": [
    "###  Dictionaries"
   ]
  },
  {
   "cell_type": "code",
   "execution_count": 8,
   "metadata": {},
   "outputs": [],
   "source": [
    "# Create a empty dictionary\n",
    "contact_info = {}"
   ]
  },
  {
   "cell_type": "code",
   "execution_count": 9,
   "metadata": {},
   "outputs": [
    {
     "ename": "KeyError",
     "evalue": "'height'",
     "output_type": "error",
     "traceback": [
      "\u001b[0;31m---------------------------------------------------------------------------\u001b[0m",
      "\u001b[0;31mKeyError\u001b[0m                                  Traceback (most recent call last)",
      "Cell \u001b[0;32mIn[9], line 2\u001b[0m\n\u001b[1;32m      1\u001b[0m \u001b[38;5;66;03m# normal retrieval (and possible exception)\u001b[39;00m\n\u001b[0;32m----> 2\u001b[0m \u001b[43mcontact_info\u001b[49m\u001b[43m[\u001b[49m\u001b[38;5;124;43m\"\u001b[39;49m\u001b[38;5;124;43mheight\u001b[39;49m\u001b[38;5;124;43m\"\u001b[39;49m\u001b[43m]\u001b[49m\n",
      "\u001b[0;31mKeyError\u001b[0m: 'height'"
     ]
    }
   ],
   "source": [
    "# normal retrieval (and possible exception)\n",
    "contact_info[\"height\"]"
   ]
  },
  {
   "cell_type": "code",
   "execution_count": 10,
   "metadata": {},
   "outputs": [
    {
     "name": "stdout",
     "output_type": "stream",
     "text": [
      "6 ft\n"
     ]
    }
   ],
   "source": [
    "# One way to deal with this:\n",
    "# Using try and except block\n",
    "try:\n",
    "    contact_info[\"height\"]\n",
    "except:\n",
    "    print(\"6 ft\")"
   ]
  },
  {
   "cell_type": "code",
   "execution_count": 11,
   "metadata": {},
   "outputs": [
    {
     "name": "stdout",
     "output_type": "stream",
     "text": [
      "Height of the guy is None\n"
     ]
    }
   ],
   "source": [
    "# Another way is to use .get()\n",
    "result = contact_info.get(\"height\")\n",
    "print(\"Height of the guy is\", result)"
   ]
  },
  {
   "cell_type": "code",
   "execution_count": 12,
   "metadata": {},
   "outputs": [
    {
     "name": "stdout",
     "output_type": "stream",
     "text": [
      "Height of my mom is 5 ft\n"
     ]
    }
   ],
   "source": [
    "# Similar to the list you can do\n",
    "result = contact_info.get(\"height\", \"5 ft\")\n",
    "print(\"Height of my mom is\", result)"
   ]
  },
  {
   "cell_type": "code",
   "execution_count": 13,
   "metadata": {},
   "outputs": [
    {
     "name": "stdout",
     "output_type": "stream",
     "text": [
      "Age is 31\n",
      "{}\n"
     ]
    }
   ],
   "source": [
    "contact_info[\"age\"] = 31\n",
    "print(\"Age is\", contact_info.pop(\"age\"))\n",
    "print(contact_info)"
   ]
  }
 ],
 "metadata": {
  "kernelspec": {
   "display_name": "Python 3",
   "language": "python",
   "name": "python3"
  },
  "language_info": {
   "codemirror_mode": {
    "name": "ipython",
    "version": 3
   },
   "file_extension": ".py",
   "mimetype": "text/x-python",
   "name": "python",
   "nbconvert_exporter": "python",
   "pygments_lexer": "ipython3",
   "version": "3.12.1"
  }
 },
 "nbformat": 4,
 "nbformat_minor": 2
}
